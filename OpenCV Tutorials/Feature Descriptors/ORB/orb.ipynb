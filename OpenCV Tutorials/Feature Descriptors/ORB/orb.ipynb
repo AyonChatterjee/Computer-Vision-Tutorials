{
 "cells": [
  {
   "cell_type": "markdown",
   "id": "8431c52f",
   "metadata": {},
   "source": [
    "ORB is a fusion of FAST keypoint detector and BRIEF descriptor with some added features to improve the performance.\n",
    "FAST is Features from Accelerated Segment Test used to detect features from the provided image.\n"
   ]
  },
  {
   "cell_type": "code",
   "execution_count": null,
   "id": "e0ebe00c",
   "metadata": {},
   "outputs": [
    {
     "data": {
      "text/plain": [
       "-1"
      ]
     },
     "execution_count": 2,
     "metadata": {},
     "output_type": "execute_result"
    },
    {
     "ename": "",
     "evalue": "",
     "output_type": "error",
     "traceback": [
      "\u001b[1;31mThe Kernel crashed while executing code in the current cell or a previous cell. \n",
      "\u001b[1;31mPlease review the code in the cell(s) to identify a possible cause of the failure. \n",
      "\u001b[1;31mClick <a href='https://aka.ms/vscodeJupyterKernelCrash'>here</a> for more info. \n",
      "\u001b[1;31mView Jupyter <a href='command:jupyter.viewOutput'>log</a> for further details."
     ]
    }
   ],
   "source": [
    "import numpy as np\n",
    "import cv2\n",
    " \n",
    "      \n",
    "query_img = cv2.imread(r\"C:\\Users\\chatt\\Desktop\\Computer Vision Tutorials\\OpenCV Tutorials\\Resources\\Photos\\group 2.jpg\")\n",
    "train_img = cv2.imread(r\"C:\\Users\\chatt\\Desktop\\Computer Vision Tutorials\\OpenCV Tutorials\\Resources\\Photos\\group 1.jpg\")\n",
    " \n",
    "# Convert it to grayscale\n",
    "query_img_bw = cv2.cvtColor(query_img,cv2.COLOR_BGR2GRAY)\n",
    "train_img_bw = cv2.cvtColor(train_img, cv2.COLOR_BGR2GRAY)\n",
    " \n",
    "# Initialize the ORB detector algorithm\n",
    "orb = cv2.ORB_create()\n",
    " \n",
    "# Now detect the keypoints and compute\n",
    "# the descriptors for the query image\n",
    "# and train image\n",
    "queryKeypoints, queryDescriptors = orb.detectAndCompute(query_img_bw,None)\n",
    "trainKeypoints, trainDescriptors = orb.detectAndCompute(train_img_bw,None)\n",
    "\n",
    "# Initialize the Matcher for matching\n",
    "# the keypoints and then match the\n",
    "# keypoints\n",
    "matcher = cv2.BFMatcher()\n",
    "matches = matcher.match(queryDescriptors,trainDescriptors)\n",
    " \n",
    "# draw the matches to the final image\n",
    "# containing both the images the drawMatches()\n",
    "# function takes both images and keypoints\n",
    "# and outputs the matched query image with\n",
    "# its train image\n",
    "final_img = cv2.drawMatches(query_img, queryKeypoints, \n",
    "train_img, trainKeypoints, matches[:20],None)\n",
    " \n",
    "final_img = cv2.resize(final_img, (1000,650))\n",
    "\n",
    "# Show the final image\n",
    "cv2.imshow(\"Matches\", final_img)\n",
    "cv2.waitKey(3000)"
   ]
  }
 ],
 "metadata": {
  "kernelspec": {
   "display_name": "Python 3",
   "language": "python",
   "name": "python3"
  },
  "language_info": {
   "codemirror_mode": {
    "name": "ipython",
    "version": 3
   },
   "file_extension": ".py",
   "mimetype": "text/x-python",
   "name": "python",
   "nbconvert_exporter": "python",
   "pygments_lexer": "ipython3",
   "version": "3.11.7"
  }
 },
 "nbformat": 4,
 "nbformat_minor": 5
}
