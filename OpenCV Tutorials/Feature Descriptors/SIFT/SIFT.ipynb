{
 "cells": [
  {
   "cell_type": "markdown",
   "id": "1c5018b8",
   "metadata": {},
   "source": [
    "SIFT  - Scale Invariant Feature Transform"
   ]
  },
  {
   "cell_type": "markdown",
   "id": "697b2f07",
   "metadata": {},
   "source": [
    "It describes local image regions by their gradient magnitudes and orientations. It is known for its robustness to various transformations making it more effective for use."
   ]
  },
  {
   "cell_type": "code",
   "execution_count": 1,
   "id": "f0741952",
   "metadata": {},
   "outputs": [
    {
     "name": "stdout",
     "output_type": "stream",
     "text": [
      "Note: you may need to restart the kernel to use updated packages.\n"
     ]
    },
    {
     "name": "stderr",
     "output_type": "stream",
     "text": [
      "\n",
      "[notice] A new release of pip is available: 23.2.1 -> 25.1.1\n",
      "[notice] To update, run: python.exe -m pip install --upgrade pip\n"
     ]
    }
   ],
   "source": [
    "pip install opencv-contrib-python>=4.4"
   ]
  },
  {
   "cell_type": "code",
   "execution_count": 5,
   "id": "262e666d",
   "metadata": {},
   "outputs": [
    {
     "data": {
      "text/plain": [
       "True"
      ]
     },
     "execution_count": 5,
     "metadata": {},
     "output_type": "execute_result"
    }
   ],
   "source": [
    "# Important NOTE:  Use opencv >=4.4 \n",
    "import cv2 as cv\n",
    "\n",
    "# Loading the image\n",
    "img = cv2.imread(r\"C:\\Users\\chatt\\Desktop\\Computer Vision Tutorials\\OpenCV Tutorials\\Resources\\Photos\\group 2.jpg\")\n",
    "\n",
    " # Converting image to grayscale\n",
    "gray= cv2.cvtColor(img,cv2.COLOR_BGR2GRAY)\n",
    "\n",
    "# Applying SIFT detector\n",
    "sift = cv.SIFT_create()\n",
    "kp = sift.detect(gray, None)\n",
    "\n",
    "# Marking the keypoint on the image using circles\n",
    "img=cv2.drawKeypoints(gray ,\n",
    "                      kp ,\n",
    "                      img ,\n",
    "                      flags=cv2.DRAW_MATCHES_FLAGS_DRAW_RICH_KEYPOINTS)\n",
    "\n",
    "cv2.imwrite('image-with-keypoints.jpg', img)"
   ]
  }
 ],
 "metadata": {
  "kernelspec": {
   "display_name": "Python 3",
   "language": "python",
   "name": "python3"
  },
  "language_info": {
   "codemirror_mode": {
    "name": "ipython",
    "version": 3
   },
   "file_extension": ".py",
   "mimetype": "text/x-python",
   "name": "python",
   "nbconvert_exporter": "python",
   "pygments_lexer": "ipython3",
   "version": "3.11.7"
  }
 },
 "nbformat": 4,
 "nbformat_minor": 5
}
