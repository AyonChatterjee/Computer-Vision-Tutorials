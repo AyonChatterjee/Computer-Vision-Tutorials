{
 "cells": [
  {
   "cell_type": "code",
   "execution_count": 2,
   "id": "2b623575",
   "metadata": {},
   "outputs": [],
   "source": [
    "import cv2\n",
    "import numpy as np\n",
    "\n",
    "image = cv2.imread(r\"C:\\Users\\chatt\\Desktop\\Computer Vision Tutorials\\OpenCV Tutorials\\Resources\\Photos\\group 1.jpg\")\n",
    "\n",
    "if image is None:\n",
    "    print(\"Image not found or path is wrong.\")\n",
    "    exit()\n",
    "\n",
    "# Apply Blurs\n",
    "gaussian = cv2.GaussianBlur(image, (7, 7), 0)\n",
    "median = cv2.medianBlur(image, 5)\n",
    "bilateral = cv2.bilateralFilter(image, 9, 75, 75)\n",
    "\n",
    "# Stack horizontally\n",
    "stacked = np.hstack((image, gaussian, median, bilateral))\n",
    "\n",
    "cv2.imshow('Original | Gaussian | Median | Bilateral', stacked)\n",
    "cv2.waitKey(0)\n",
    "cv2.destroyAllWindows()\n"
   ]
  }
 ],
 "metadata": {
  "kernelspec": {
   "display_name": "Python 3",
   "language": "python",
   "name": "python3"
  },
  "language_info": {
   "codemirror_mode": {
    "name": "ipython",
    "version": 3
   },
   "file_extension": ".py",
   "mimetype": "text/x-python",
   "name": "python",
   "nbconvert_exporter": "python",
   "pygments_lexer": "ipython3",
   "version": "3.11.7"
  }
 },
 "nbformat": 4,
 "nbformat_minor": 5
}
